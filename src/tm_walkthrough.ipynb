{
 "cells": [
  {
   "cell_type": "markdown",
   "metadata": {},
   "source": [
    "### This is where we show the complete walkthrough"
   ]
  },
  {
   "cell_type": "code",
   "execution_count": 3,
   "metadata": {},
   "outputs": [
    {
     "name": "stdout",
     "output_type": "stream",
     "text": [
      "Collecting gdown\n",
      "  Downloading gdown-5.1.0-py3-none-any.whl.metadata (5.7 kB)\n",
      "Collecting beautifulsoup4 (from gdown)\n",
      "  Downloading beautifulsoup4-4.12.3-py3-none-any.whl.metadata (3.8 kB)\n",
      "Requirement already satisfied: filelock in /home/stiffi/.local/lib/python3.10/site-packages (from gdown) (3.9.0)\n",
      "Requirement already satisfied: requests[socks] in /home/stiffi/anaconda3/envs/IKT452/lib/python3.10/site-packages (from gdown) (2.31.0)\n",
      "Requirement already satisfied: tqdm in /home/stiffi/anaconda3/envs/IKT452/lib/python3.10/site-packages (from gdown) (4.66.2)\n",
      "Collecting soupsieve>1.2 (from beautifulsoup4->gdown)\n",
      "  Downloading soupsieve-2.5-py3-none-any.whl.metadata (4.7 kB)\n",
      "Requirement already satisfied: charset-normalizer<4,>=2 in /home/stiffi/.local/lib/python3.10/site-packages (from requests[socks]->gdown) (2.1.1)\n",
      "Requirement already satisfied: idna<4,>=2.5 in /home/stiffi/anaconda3/envs/IKT452/lib/python3.10/site-packages (from requests[socks]->gdown) (3.7)\n",
      "Requirement already satisfied: urllib3<3,>=1.21.1 in /home/stiffi/anaconda3/envs/IKT452/lib/python3.10/site-packages (from requests[socks]->gdown) (2.2.1)\n",
      "Requirement already satisfied: certifi>=2017.4.17 in /home/stiffi/anaconda3/envs/IKT452/lib/python3.10/site-packages (from requests[socks]->gdown) (2024.2.2)\n",
      "Collecting PySocks!=1.5.7,>=1.5.6 (from requests[socks]->gdown)\n",
      "  Downloading PySocks-1.7.1-py3-none-any.whl.metadata (13 kB)\n",
      "Downloading gdown-5.1.0-py3-none-any.whl (17 kB)\n",
      "Downloading beautifulsoup4-4.12.3-py3-none-any.whl (147 kB)\n",
      "\u001b[2K   \u001b[38;2;114;156;31m━━━━━━━━━━━━━━━━━━━━━━━━━━━━━━━━━━━━━━━━\u001b[0m \u001b[32m147.9/147.9 kB\u001b[0m \u001b[31m1.2 MB/s\u001b[0m eta \u001b[36m0:00:00\u001b[0m MB/s\u001b[0m eta \u001b[36m0:00:01\u001b[0m01\u001b[0m\n",
      "\u001b[?25hUsing cached PySocks-1.7.1-py3-none-any.whl (16 kB)\n",
      "Downloading soupsieve-2.5-py3-none-any.whl (36 kB)\n",
      "Installing collected packages: soupsieve, PySocks, beautifulsoup4, gdown\n",
      "Successfully installed PySocks-1.7.1 beautifulsoup4-4.12.3 gdown-5.1.0 soupsieve-2.5\n",
      "Note: you may need to restart the kernel to use updated packages.\n"
     ]
    }
   ],
   "source": [
    "pip install gdown"
   ]
  },
  {
   "cell_type": "code",
   "execution_count": 5,
   "metadata": {},
   "outputs": [
    {
     "name": "stderr",
     "output_type": "stream",
     "text": [
      "Downloading...\n",
      "From (original): https://drive.google.com/uc?id=1ZB12CDhbYZZSqz8Sw1sV00S7-o7Pm4Gb\n",
      "From (redirected): https://drive.google.com/uc?id=1ZB12CDhbYZZSqz8Sw1sV00S7-o7Pm4Gb&confirm=t&uuid=c3bd92ea-0681-4969-97f2-d2acff0ce5d4\n",
      "To: /home/stiffi/Documents/master_2_sem/IKT452/tm-yolo-mathreader/src/dataset.zip\n",
      "100%|██████████| 279M/279M [00:57<00:00, 4.83MB/s] \n"
     ]
    },
    {
     "data": {
      "text/plain": [
       "0"
      ]
     },
     "execution_count": 5,
     "metadata": {},
     "output_type": "execute_result"
    }
   ],
   "source": [
    "# Download the tm dataset\n",
    "import os\n",
    "os.system('cd ..')\n",
    "if not os.path.exists('data'):\n",
    "    os.system('mkdir data')\n",
    "os.system('cd data')\n",
    "os.system('gdown https://drive.google.com/uc?id=1ZB12CDhbYZZSqz8Sw1sV00S7-o7Pm4Gb')\n",
    "os.system('unzip -q dataset.zip')\n",
    "os.system('rm dataset.zip')\n",
    "os.system('mv dataset tm_dataset')\n"
   ]
  },
  {
   "cell_type": "code",
   "execution_count": null,
   "metadata": {},
   "outputs": [],
   "source": [
    "# Downloading the math expression dataset\n",
    "os.system('cd ..')\n",
    "if not os.path.exists('data'):\n",
    "    os.system('mkdir data')\n",
    "os.system('cd data')\n",
    "os.system('mkdir math_expression_data')\n",
    "os.system('cd math_expression_data')\n",
    "os.system('gdown https://drive.google.com/uc?id=1unT0LMbMuRDyhfQh5ikHRMpqi5-T9fg2')"
   ]
  }
 ],
 "metadata": {
  "kernelspec": {
   "display_name": "IKT452",
   "language": "python",
   "name": "python3"
  },
  "language_info": {
   "codemirror_mode": {
    "name": "ipython",
    "version": 3
   },
   "file_extension": ".py",
   "mimetype": "text/x-python",
   "name": "python",
   "nbconvert_exporter": "python",
   "pygments_lexer": "ipython3",
   "version": "3.10.14"
  }
 },
 "nbformat": 4,
 "nbformat_minor": 2
}
