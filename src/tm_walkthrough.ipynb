{
 "cells": [
  {
   "cell_type": "markdown",
   "metadata": {},
   "source": [
    "### This is where we show the complete walkthrough"
   ]
  },
  {
   "cell_type": "code",
   "execution_count": 3,
   "metadata": {},
   "outputs": [
    {
     "name": "stdout",
     "output_type": "stream",
     "text": [
      "Collecting gdown\n",
      "  Downloading gdown-5.1.0-py3-none-any.whl.metadata (5.7 kB)\n",
      "Collecting beautifulsoup4 (from gdown)\n",
      "  Downloading beautifulsoup4-4.12.3-py3-none-any.whl.metadata (3.8 kB)\n",
      "Requirement already satisfied: filelock in /home/stiffi/.local/lib/python3.10/site-packages (from gdown) (3.9.0)\n",
      "Requirement already satisfied: requests[socks] in /home/stiffi/anaconda3/envs/IKT452/lib/python3.10/site-packages (from gdown) (2.31.0)\n",
      "Requirement already satisfied: tqdm in /home/stiffi/anaconda3/envs/IKT452/lib/python3.10/site-packages (from gdown) (4.66.2)\n",
      "Collecting soupsieve>1.2 (from beautifulsoup4->gdown)\n",
      "  Downloading soupsieve-2.5-py3-none-any.whl.metadata (4.7 kB)\n",
      "Requirement already satisfied: charset-normalizer<4,>=2 in /home/stiffi/.local/lib/python3.10/site-packages (from requests[socks]->gdown) (2.1.1)\n",
      "Requirement already satisfied: idna<4,>=2.5 in /home/stiffi/anaconda3/envs/IKT452/lib/python3.10/site-packages (from requests[socks]->gdown) (3.7)\n",
      "Requirement already satisfied: urllib3<3,>=1.21.1 in /home/stiffi/anaconda3/envs/IKT452/lib/python3.10/site-packages (from requests[socks]->gdown) (2.2.1)\n",
      "Requirement already satisfied: certifi>=2017.4.17 in /home/stiffi/anaconda3/envs/IKT452/lib/python3.10/site-packages (from requests[socks]->gdown) (2024.2.2)\n",
      "Collecting PySocks!=1.5.7,>=1.5.6 (from requests[socks]->gdown)\n",
      "  Downloading PySocks-1.7.1-py3-none-any.whl.metadata (13 kB)\n",
      "Downloading gdown-5.1.0-py3-none-any.whl (17 kB)\n",
      "Downloading beautifulsoup4-4.12.3-py3-none-any.whl (147 kB)\n",
      "\u001b[2K   \u001b[38;2;114;156;31m━━━━━━━━━━━━━━━━━━━━━━━━━━━━━━━━━━━━━━━━\u001b[0m \u001b[32m147.9/147.9 kB\u001b[0m \u001b[31m1.2 MB/s\u001b[0m eta \u001b[36m0:00:00\u001b[0m MB/s\u001b[0m eta \u001b[36m0:00:01\u001b[0m01\u001b[0m\n",
      "\u001b[?25hUsing cached PySocks-1.7.1-py3-none-any.whl (16 kB)\n",
      "Downloading soupsieve-2.5-py3-none-any.whl (36 kB)\n",
      "Installing collected packages: soupsieve, PySocks, beautifulsoup4, gdown\n",
      "Successfully installed PySocks-1.7.1 beautifulsoup4-4.12.3 gdown-5.1.0 soupsieve-2.5\n",
      "Note: you may need to restart the kernel to use updated packages.\n"
     ]
    }
   ],
   "source": [
    "pip install gdown"
   ]
  },
  {
   "cell_type": "code",
   "execution_count": 19,
   "metadata": {},
   "outputs": [
    {
     "name": "stdout",
     "output_type": "stream",
     "text": [
      "Requirement already satisfied: pip in /home/stiffi/anaconda3/envs/IKT452/lib/python3.10/site-packages (24.0)\n",
      "Requirement already satisfied: Pillow==10.3.0 in /home/stiffi/anaconda3/envs/IKT452/lib/python3.10/site-packages (from -r requirements.txt (line 1)) (10.3.0)\n",
      "Requirement already satisfied: numpy==1.26.4 in /home/stiffi/anaconda3/envs/IKT452/lib/python3.10/site-packages (from -r requirements.txt (line 2)) (1.26.4)\n",
      "Requirement already satisfied: tqdm==4.66.2 in /home/stiffi/anaconda3/envs/IKT452/lib/python3.10/site-packages (from -r requirements.txt (line 3)) (4.66.2)\n",
      "Requirement already satisfied: scikit-learn==1.2.0 in /home/stiffi/.local/lib/python3.10/site-packages (from -r requirements.txt (line 4)) (1.2.0)\n",
      "Requirement already satisfied: scikit-image==0.23.2 in /home/stiffi/anaconda3/envs/IKT452/lib/python3.10/site-packages (from -r requirements.txt (line 5)) (0.23.2)\n",
      "Collecting ultralytics==8.0.220 (from -r requirements.txt (line 6))\n",
      "  Downloading ultralytics-8.0.220-py3-none-any.whl.metadata (32 kB)\n",
      "Requirement already satisfied: customtkinter==5.2.2 in /home/stiffi/anaconda3/envs/IKT452/lib/python3.10/site-packages (from -r requirements.txt (line 7)) (5.2.2)\n",
      "Requirement already satisfied: opencv-python==4.9.0.80 in /home/stiffi/anaconda3/envs/IKT452/lib/python3.10/site-packages (from -r requirements.txt (line 8)) (4.9.0.80)\n",
      "Requirement already satisfied: pandas==2.2.2. in /home/stiffi/anaconda3/envs/IKT452/lib/python3.10/site-packages (from -r requirements.txt (line 9)) (2.2.2)\n",
      "Requirement already satisfied: matplotlib==3.8.4 in /home/stiffi/anaconda3/envs/IKT452/lib/python3.10/site-packages (from -r requirements.txt (line 10)) (3.8.4)\n",
      "Requirement already satisfied: scipy>=1.3.2 in /home/stiffi/anaconda3/envs/IKT452/lib/python3.10/site-packages (from scikit-learn==1.2.0->-r requirements.txt (line 4)) (1.13.0)\n",
      "Requirement already satisfied: joblib>=1.1.1 in /home/stiffi/.local/lib/python3.10/site-packages (from scikit-learn==1.2.0->-r requirements.txt (line 4)) (1.2.0)\n",
      "Requirement already satisfied: threadpoolctl>=2.0.0 in /home/stiffi/.local/lib/python3.10/site-packages (from scikit-learn==1.2.0->-r requirements.txt (line 4)) (3.1.0)\n",
      "Requirement already satisfied: networkx>=2.8 in /home/stiffi/anaconda3/envs/IKT452/lib/python3.10/site-packages (from scikit-image==0.23.2->-r requirements.txt (line 5)) (3.3)\n",
      "Requirement already satisfied: imageio>=2.33 in /home/stiffi/anaconda3/envs/IKT452/lib/python3.10/site-packages (from scikit-image==0.23.2->-r requirements.txt (line 5)) (2.34.1)\n",
      "Requirement already satisfied: tifffile>=2022.8.12 in /home/stiffi/anaconda3/envs/IKT452/lib/python3.10/site-packages (from scikit-image==0.23.2->-r requirements.txt (line 5)) (2024.4.24)\n",
      "Requirement already satisfied: packaging>=21 in /home/stiffi/anaconda3/envs/IKT452/lib/python3.10/site-packages (from scikit-image==0.23.2->-r requirements.txt (line 5)) (24.0)\n",
      "Requirement already satisfied: lazy-loader>=0.4 in /home/stiffi/anaconda3/envs/IKT452/lib/python3.10/site-packages (from scikit-image==0.23.2->-r requirements.txt (line 5)) (0.4)\n",
      "Requirement already satisfied: pyyaml>=5.3.1 in /home/stiffi/anaconda3/envs/IKT452/lib/python3.10/site-packages (from ultralytics==8.0.220->-r requirements.txt (line 6)) (6.0.1)\n",
      "Requirement already satisfied: requests>=2.23.0 in /home/stiffi/anaconda3/envs/IKT452/lib/python3.10/site-packages (from ultralytics==8.0.220->-r requirements.txt (line 6)) (2.31.0)\n",
      "Requirement already satisfied: torch>=1.8.0 in /home/stiffi/anaconda3/envs/IKT452/lib/python3.10/site-packages (from ultralytics==8.0.220->-r requirements.txt (line 6)) (2.3.0)\n",
      "Collecting torchvision>=0.9.0 (from ultralytics==8.0.220->-r requirements.txt (line 6))\n",
      "  Downloading torchvision-0.18.0-cp310-cp310-manylinux1_x86_64.whl.metadata (6.6 kB)\n",
      "Collecting seaborn>=0.11.0 (from ultralytics==8.0.220->-r requirements.txt (line 6))\n",
      "  Downloading seaborn-0.13.2-py3-none-any.whl.metadata (5.4 kB)\n",
      "Requirement already satisfied: psutil in /home/stiffi/anaconda3/envs/IKT452/lib/python3.10/site-packages (from ultralytics==8.0.220->-r requirements.txt (line 6)) (5.9.0)\n",
      "Collecting py-cpuinfo (from ultralytics==8.0.220->-r requirements.txt (line 6))\n",
      "  Using cached py_cpuinfo-9.0.0-py3-none-any.whl.metadata (794 bytes)\n",
      "Collecting thop>=0.1.1 (from ultralytics==8.0.220->-r requirements.txt (line 6))\n",
      "  Downloading thop-0.1.1.post2209072238-py3-none-any.whl.metadata (2.7 kB)\n",
      "Requirement already satisfied: darkdetect in /home/stiffi/anaconda3/envs/IKT452/lib/python3.10/site-packages (from customtkinter==5.2.2->-r requirements.txt (line 7)) (0.8.0)\n",
      "Requirement already satisfied: python-dateutil>=2.8.2 in /home/stiffi/anaconda3/envs/IKT452/lib/python3.10/site-packages (from pandas==2.2.2.->-r requirements.txt (line 9)) (2.9.0)\n",
      "Requirement already satisfied: pytz>=2020.1 in /home/stiffi/anaconda3/envs/IKT452/lib/python3.10/site-packages (from pandas==2.2.2.->-r requirements.txt (line 9)) (2024.1)\n",
      "Requirement already satisfied: tzdata>=2022.7 in /home/stiffi/anaconda3/envs/IKT452/lib/python3.10/site-packages (from pandas==2.2.2.->-r requirements.txt (line 9)) (2024.1)\n",
      "Requirement already satisfied: contourpy>=1.0.1 in /home/stiffi/anaconda3/envs/IKT452/lib/python3.10/site-packages (from matplotlib==3.8.4->-r requirements.txt (line 10)) (1.2.1)\n",
      "Requirement already satisfied: cycler>=0.10 in /home/stiffi/anaconda3/envs/IKT452/lib/python3.10/site-packages (from matplotlib==3.8.4->-r requirements.txt (line 10)) (0.12.1)\n",
      "Requirement already satisfied: fonttools>=4.22.0 in /home/stiffi/anaconda3/envs/IKT452/lib/python3.10/site-packages (from matplotlib==3.8.4->-r requirements.txt (line 10)) (4.51.0)\n",
      "Requirement already satisfied: kiwisolver>=1.3.1 in /home/stiffi/anaconda3/envs/IKT452/lib/python3.10/site-packages (from matplotlib==3.8.4->-r requirements.txt (line 10)) (1.4.5)\n",
      "Requirement already satisfied: pyparsing>=2.3.1 in /home/stiffi/anaconda3/envs/IKT452/lib/python3.10/site-packages (from matplotlib==3.8.4->-r requirements.txt (line 10)) (3.1.2)\n",
      "Requirement already satisfied: six>=1.5 in /home/stiffi/anaconda3/envs/IKT452/lib/python3.10/site-packages (from python-dateutil>=2.8.2->pandas==2.2.2.->-r requirements.txt (line 9)) (1.16.0)\n",
      "Requirement already satisfied: charset-normalizer<4,>=2 in /home/stiffi/.local/lib/python3.10/site-packages (from requests>=2.23.0->ultralytics==8.0.220->-r requirements.txt (line 6)) (2.1.1)\n",
      "Requirement already satisfied: idna<4,>=2.5 in /home/stiffi/anaconda3/envs/IKT452/lib/python3.10/site-packages (from requests>=2.23.0->ultralytics==8.0.220->-r requirements.txt (line 6)) (3.7)\n",
      "Requirement already satisfied: urllib3<3,>=1.21.1 in /home/stiffi/anaconda3/envs/IKT452/lib/python3.10/site-packages (from requests>=2.23.0->ultralytics==8.0.220->-r requirements.txt (line 6)) (2.2.1)\n",
      "Requirement already satisfied: certifi>=2017.4.17 in /home/stiffi/anaconda3/envs/IKT452/lib/python3.10/site-packages (from requests>=2.23.0->ultralytics==8.0.220->-r requirements.txt (line 6)) (2024.2.2)\n",
      "Requirement already satisfied: filelock in /home/stiffi/.local/lib/python3.10/site-packages (from torch>=1.8.0->ultralytics==8.0.220->-r requirements.txt (line 6)) (3.9.0)\n",
      "Requirement already satisfied: typing-extensions>=4.8.0 in /home/stiffi/anaconda3/envs/IKT452/lib/python3.10/site-packages (from torch>=1.8.0->ultralytics==8.0.220->-r requirements.txt (line 6)) (4.11.0)\n",
      "Requirement already satisfied: sympy in /home/stiffi/anaconda3/envs/IKT452/lib/python3.10/site-packages (from torch>=1.8.0->ultralytics==8.0.220->-r requirements.txt (line 6)) (1.12)\n",
      "Requirement already satisfied: jinja2 in /home/stiffi/anaconda3/envs/IKT452/lib/python3.10/site-packages (from torch>=1.8.0->ultralytics==8.0.220->-r requirements.txt (line 6)) (3.1.3)\n",
      "Requirement already satisfied: fsspec in /home/stiffi/.local/lib/python3.10/site-packages (from torch>=1.8.0->ultralytics==8.0.220->-r requirements.txt (line 6)) (2022.11.0)\n",
      "Requirement already satisfied: nvidia-cuda-nvrtc-cu12==12.1.105 in /home/stiffi/anaconda3/envs/IKT452/lib/python3.10/site-packages (from torch>=1.8.0->ultralytics==8.0.220->-r requirements.txt (line 6)) (12.1.105)\n",
      "Requirement already satisfied: nvidia-cuda-runtime-cu12==12.1.105 in /home/stiffi/anaconda3/envs/IKT452/lib/python3.10/site-packages (from torch>=1.8.0->ultralytics==8.0.220->-r requirements.txt (line 6)) (12.1.105)\n",
      "Requirement already satisfied: nvidia-cuda-cupti-cu12==12.1.105 in /home/stiffi/anaconda3/envs/IKT452/lib/python3.10/site-packages (from torch>=1.8.0->ultralytics==8.0.220->-r requirements.txt (line 6)) (12.1.105)\n",
      "Requirement already satisfied: nvidia-cudnn-cu12==8.9.2.26 in /home/stiffi/anaconda3/envs/IKT452/lib/python3.10/site-packages (from torch>=1.8.0->ultralytics==8.0.220->-r requirements.txt (line 6)) (8.9.2.26)\n",
      "Requirement already satisfied: nvidia-cublas-cu12==12.1.3.1 in /home/stiffi/anaconda3/envs/IKT452/lib/python3.10/site-packages (from torch>=1.8.0->ultralytics==8.0.220->-r requirements.txt (line 6)) (12.1.3.1)\n",
      "Requirement already satisfied: nvidia-cufft-cu12==11.0.2.54 in /home/stiffi/anaconda3/envs/IKT452/lib/python3.10/site-packages (from torch>=1.8.0->ultralytics==8.0.220->-r requirements.txt (line 6)) (11.0.2.54)\n",
      "Requirement already satisfied: nvidia-curand-cu12==10.3.2.106 in /home/stiffi/anaconda3/envs/IKT452/lib/python3.10/site-packages (from torch>=1.8.0->ultralytics==8.0.220->-r requirements.txt (line 6)) (10.3.2.106)\n",
      "Requirement already satisfied: nvidia-cusolver-cu12==11.4.5.107 in /home/stiffi/anaconda3/envs/IKT452/lib/python3.10/site-packages (from torch>=1.8.0->ultralytics==8.0.220->-r requirements.txt (line 6)) (11.4.5.107)\n",
      "Requirement already satisfied: nvidia-cusparse-cu12==12.1.0.106 in /home/stiffi/anaconda3/envs/IKT452/lib/python3.10/site-packages (from torch>=1.8.0->ultralytics==8.0.220->-r requirements.txt (line 6)) (12.1.0.106)\n",
      "Requirement already satisfied: nvidia-nccl-cu12==2.20.5 in /home/stiffi/anaconda3/envs/IKT452/lib/python3.10/site-packages (from torch>=1.8.0->ultralytics==8.0.220->-r requirements.txt (line 6)) (2.20.5)\n",
      "Requirement already satisfied: nvidia-nvtx-cu12==12.1.105 in /home/stiffi/anaconda3/envs/IKT452/lib/python3.10/site-packages (from torch>=1.8.0->ultralytics==8.0.220->-r requirements.txt (line 6)) (12.1.105)\n",
      "Requirement already satisfied: triton==2.3.0 in /home/stiffi/anaconda3/envs/IKT452/lib/python3.10/site-packages (from torch>=1.8.0->ultralytics==8.0.220->-r requirements.txt (line 6)) (2.3.0)\n",
      "Requirement already satisfied: nvidia-nvjitlink-cu12 in /home/stiffi/anaconda3/envs/IKT452/lib/python3.10/site-packages (from nvidia-cusolver-cu12==11.4.5.107->torch>=1.8.0->ultralytics==8.0.220->-r requirements.txt (line 6)) (12.4.127)\n",
      "Requirement already satisfied: MarkupSafe>=2.0 in /home/stiffi/anaconda3/envs/IKT452/lib/python3.10/site-packages (from jinja2->torch>=1.8.0->ultralytics==8.0.220->-r requirements.txt (line 6)) (2.1.5)\n",
      "Requirement already satisfied: mpmath>=0.19 in /home/stiffi/anaconda3/envs/IKT452/lib/python3.10/site-packages (from sympy->torch>=1.8.0->ultralytics==8.0.220->-r requirements.txt (line 6)) (1.3.0)\n",
      "Downloading ultralytics-8.0.220-py3-none-any.whl (645 kB)\n",
      "\u001b[2K   \u001b[38;2;114;156;31m━━━━━━━━━━━━━━━━━━━━━━━━━━━━━━━━━━━━━━━━\u001b[0m \u001b[32m646.0/646.0 kB\u001b[0m \u001b[31m9.2 MB/s\u001b[0m eta \u001b[36m0:00:00\u001b[0m0m eta \u001b[36m0:00:01\u001b[0m0:01\u001b[0m\n",
      "\u001b[?25hDownloading seaborn-0.13.2-py3-none-any.whl (294 kB)\n",
      "\u001b[2K   \u001b[38;2;114;156;31m━━━━━━━━━━━━━━━━━━━━━━━━━━━━━━━━━━━━━━━━\u001b[0m \u001b[32m294.9/294.9 kB\u001b[0m \u001b[31m10.8 MB/s\u001b[0m eta \u001b[36m0:00:00\u001b[0m\n",
      "\u001b[?25hDownloading thop-0.1.1.post2209072238-py3-none-any.whl (15 kB)\n",
      "Downloading torchvision-0.18.0-cp310-cp310-manylinux1_x86_64.whl (7.0 MB)\n",
      "\u001b[2K   \u001b[38;2;114;156;31m━━━━━━━━━━━━━━━━━━━━━━━━━━━━━━━━━━━━━━━━\u001b[0m \u001b[32m7.0/7.0 MB\u001b[0m \u001b[31m13.0 MB/s\u001b[0m eta \u001b[36m0:00:00\u001b[0mm eta \u001b[36m0:00:01\u001b[0m0:01\u001b[0m:01\u001b[0m\n",
      "\u001b[?25hUsing cached py_cpuinfo-9.0.0-py3-none-any.whl (22 kB)\n",
      "Installing collected packages: py-cpuinfo, seaborn, torchvision, thop, ultralytics\n",
      "Successfully installed py-cpuinfo-9.0.0 seaborn-0.13.2 thop-0.1.1.post2209072238 torchvision-0.18.0 ultralytics-8.0.220\n"
     ]
    },
    {
     "name": "stderr",
     "output_type": "stream",
     "text": [
      "Downloading...\n",
      "From (original): https://drive.google.com/uc?id=1ZB12CDhbYZZSqz8Sw1sV00S7-o7Pm4Gb\n",
      "From (redirected): https://drive.google.com/uc?id=1ZB12CDhbYZZSqz8Sw1sV00S7-o7Pm4Gb&confirm=t&uuid=c4daea6b-a95a-4ce5-a90e-2659c4c2f399\n",
      "To: /home/stiffi/data/math_expression_data/yolo_data/dataset.zip\n",
      "100%|██████████| 279M/279M [00:14<00:00, 19.7MB/s] \n",
      "Downloading...\n",
      "From (original): https://drive.google.com/uc?id=1unT0LMbMuRDyhfQh5ikHRMpqi5-T9fg2\n",
      "From (redirected): https://drive.google.com/uc?id=1unT0LMbMuRDyhfQh5ikHRMpqi5-T9fg2&confirm=t&uuid=d88c21a6-be9c-4051-b813-0e9638c6ad12\n",
      "To: /home/stiffi/data/math_expression_data/tm_data/batch_1.zip\n",
      "100%|██████████| 2.25G/2.25G [01:50<00:00, 20.4MB/s]\n"
     ]
    },
    {
     "data": {
      "text/plain": [
       "0"
      ]
     },
     "execution_count": 19,
     "metadata": {},
     "output_type": "execute_result"
    }
   ],
   "source": [
    "import os\n",
    "\n",
    "os.system(\"cd .. && chmod +x download_data.sh && ./download_data.sh\")\n"
   ]
  }
 ],
 "metadata": {
  "kernelspec": {
   "display_name": "IKT452",
   "language": "python",
   "name": "python3"
  },
  "language_info": {
   "codemirror_mode": {
    "name": "ipython",
    "version": 3
   },
   "file_extension": ".py",
   "mimetype": "text/x-python",
   "name": "python",
   "nbconvert_exporter": "python",
   "pygments_lexer": "ipython3",
   "version": "3.10.14"
  }
 },
 "nbformat": 4,
 "nbformat_minor": 2
}
