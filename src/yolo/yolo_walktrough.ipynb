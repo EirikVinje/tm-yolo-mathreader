{
 "cells": [
  {
   "cell_type": "markdown",
   "metadata": {},
   "source": [
    "# YOLO-TsetlinMachine object-dectection object detection and symbol prediction walkthrough"
   ]
  },
  {
   "cell_type": "markdown",
   "metadata": {},
   "source": [
    "### Download datasets and requirements"
   ]
  },
  {
   "cell_type": "code",
   "execution_count": null,
   "metadata": {},
   "outputs": [],
   "source": [
    "import os\n",
    "\n",
    "os.sytem(\"chmod +x ../download_data.sh && ../download_data.sh\")"
   ]
  },
  {
   "cell_type": "markdown",
   "metadata": {},
   "source": [
    "## Load data"
   ]
  },
  {
   "cell_type": "code",
   "execution_count": null,
   "metadata": {},
   "outputs": [],
   "source": [
    "import json\n",
    "\n",
    "root = f\"/home/{os.environ['USER']}/data/math_expression_data/yolo_data\"\n",
    "\n",
    "labels = os.path.join(root, \"JSON\", \"kaggle_data_1.json\")\n",
    "images = os.path.join(root, \"background_images\")\n",
    "\n",
    "with open(labels, \"rb\") as file:\n",
    "    labels = json.load(file)"
   ]
  },
  {
   "cell_type": "markdown",
   "metadata": {},
   "source": [
    "## Show image with bounding boxes"
   ]
  },
  {
   "cell_type": "code",
   "execution_count": null,
   "metadata": {},
   "outputs": [],
   "source": [
    "from PIL import Image, ImageDraw\n",
    "import numpy as np\n",
    "\n",
    "rndimg = np.random.randint(0, 10000)\n",
    "\n",
    "_img = labels[rndimg][\"filename\"]\n",
    "\n",
    "for file in os.listdir(images):\n",
    "\n",
    "    if file == _img:\n",
    "        img = Image.open(os.path.join(images, file))\n",
    "        draw = ImageDraw.Draw(img)\n",
    "\n",
    "        xmin = labels[rndimg][\"image_data\"][\"xmins_raw\"]\n",
    "        xmax = labels[rndimg][\"image_data\"][\"xmaxs_raw\"]\n",
    "        ymin = labels[rndimg][\"image_data\"][\"ymins_raw\"]\n",
    "        ymax = labels[rndimg][\"image_data\"][\"ymaxs_raw\"]\n",
    "\n",
    "        for x_min, x_max, y_min, y_max in zip(xmin, xmax, ymin, ymax):\n",
    "            draw.rectangle([x_min, y_min, x_max, y_max], outline=\"red\")\n",
    "\n",
    "        display(img)"
   ]
  },
  {
   "cell_type": "markdown",
   "metadata": {},
   "source": [
    "## Prepare dataset environment"
   ]
  },
  {
   "cell_type": "code",
   "execution_count": null,
   "metadata": {},
   "outputs": [],
   "source": [
    "dataset_root = f\"/home/{os.environ['USER']}/data/math_expression_data/yolo_dataset_formated\"\n",
    "if not os.path.exists(dataset_root):\n",
    "    os.mkdir(dataset_root)\n",
    "\n",
    "train_dir = os.path.join(dataset_root, \"train\")\n",
    "if not os.path.exists(train_dir):\n",
    "    os.mkdir(train_dir)\n",
    "\n",
    "val_dir = os.path.join(dataset_root, \"valid\")\n",
    "if not os.path.exists(val_dir):\n",
    "    os.mkdir(val_dir)\n",
    "\n",
    "train_x_dir = os.path.join(train_dir, \"images\")\n",
    "if not os.path.exists(train_x_dir):\n",
    "    os.mkdir(train_x_dir)\n",
    "\n",
    "val_x_dir = os.path.join(val_dir, \"images\")\n",
    "if not os.path.exists(val_x_dir):\n",
    "    os.mkdir(val_x_dir)\n",
    "\n",
    "train_y_dir = os.path.join(train_dir, \"labels\")\n",
    "if not os.path.exists(train_y_dir):\n",
    "    os.mkdir(train_y_dir)\n",
    "\n",
    "val_y_dir = os.path.join(val_dir, \"labels\")\n",
    "if not os.path.exists(val_y_dir):\n",
    "    os.mkdir(val_y_dir)"
   ]
  },
  {
   "cell_type": "markdown",
   "metadata": {},
   "source": [
    "## Functions:\n",
    "- Convert xmin, xmax, ymin, ymax to center_x, center_y, bbox_width, bbox_height. This is neccessary for yolo training\n",
    "\n",
    "- Get image classes"
   ]
  },
  {
   "cell_type": "code",
   "execution_count": null,
   "metadata": {},
   "outputs": [],
   "source": [
    "import pickle\n",
    "\n",
    "def convert_to_yolo_bbox(image_width, image_height, xmin, xmax, ymin, ymax):\n",
    "    \n",
    "    bbox_width = xmax - xmin\n",
    "    bbox_height = ymax - ymin\n",
    "    center_x = xmin + bbox_width / 2\n",
    "    center_y = ymin + bbox_height / 2\n",
    "\n",
    "    center_x /= image_width\n",
    "    center_y /= image_height\n",
    "    bbox_width /= image_width\n",
    "    bbox_height /= image_height\n",
    "\n",
    "    return center_x, center_y, bbox_width, bbox_height\n",
    "\n",
    "\n",
    "def get_img_info(all_img_data, filename):\n",
    "\n",
    "    with open(\"keep_classes.pkl\", \"rb\") as file:\n",
    "        keep = pickle.load(file)\n",
    "\n",
    "    for j, imginfo in enumerate(all_img_data):\n",
    "\n",
    "        if imginfo[\"filename\"] == filename:\n",
    "            \n",
    "            img = imginfo[\"image_data\"]\n",
    "            width = img[\"width\"]\n",
    "            height = img[\"height\"]\n",
    "\n",
    "            keep_classes = [i for i,lab in enumerate(imginfo[\"image_data\"][\"visible_latex_chars\"]) if lab in keep]\n",
    "            \n",
    "            img_classes = [imginfo[\"image_data\"][\"visible_latex_chars\"][i] for i in keep_classes]\n",
    "            \n",
    "            xmin = [imginfo[\"image_data\"][\"xmins_raw\"][i] for i in keep_classes]\n",
    "            xmax = [imginfo[\"image_data\"][\"xmaxs_raw\"][i] for i in keep_classes]\n",
    "            ymin = [imginfo[\"image_data\"][\"ymins_raw\"][i] for i in keep_classes]\n",
    "            ymax = [imginfo[\"image_data\"][\"ymaxs_raw\"][i] for i in keep_classes]\n",
    "            \n",
    "            return [img_classes, width, height, xmin, xmax, ymin, ymax]\n",
    "    \n",
    "    assert False, f\"Image {filename} not found\"\n",
    "        "
   ]
  },
  {
   "cell_type": "markdown",
   "metadata": {},
   "source": [
    "## Train test split"
   ]
  },
  {
   "cell_type": "code",
   "execution_count": null,
   "metadata": {},
   "outputs": [],
   "source": [
    "from sklearn.model_selection import train_test_split\n",
    "\n",
    "train, test = train_test_split(os.listdir(images), test_size=0.2, random_state=42)"
   ]
  },
  {
   "cell_type": "markdown",
   "metadata": {},
   "source": [
    "## Main function."
   ]
  },
  {
   "cell_type": "code",
   "execution_count": null,
   "metadata": {},
   "outputs": [],
   "source": [
    "from tqdm import tqdm\n",
    "\n",
    "def make_data(files : list, x_path : str, y_path : str, settype : str):\n",
    "\n",
    "    for i, filename in enumerate(tqdm(files)):\n",
    "\n",
    "        center_x, center_y, bbox_width, bbox_height = [], [], [], []\n",
    "\n",
    "        img = Image.open(os.path.join(images, filename))\n",
    "        img_data = get_img_info(labels, filename)\n",
    "        \n",
    "        if img_data[0] == []:\n",
    "            continue\n",
    "        \n",
    "        for xmin, xmax, ymin, ymax in zip(img_data[3], img_data[4], img_data[5], img_data[6]):\n",
    "            \n",
    "            c_x, c_y, b_w, b_h = convert_to_yolo_bbox(img_data[1], img_data[2], xmin, xmax, ymin, ymax)\n",
    "            \n",
    "            center_x.append(c_x)\n",
    "            center_y.append(c_y)\n",
    "            bbox_width.append(b_w)\n",
    "            bbox_height.append(b_h)\n",
    "\n",
    "        with open(\"keep.pkl\", \"rb\") as f:\n",
    "            keep = pickle.load(f)\n",
    "\n",
    "        with open(os.path.join(y_path, f\"{settype}_{i}.txt\"), \"w\") as f:\n",
    "            for c, (c_x, c_y, b_w, b_h) in enumerate(zip(center_x, center_y, bbox_width, bbox_height)):                \n",
    "                \n",
    "                is_class = keep.index(img_data[0][c])\n",
    "                f.write(f\"{is_class} {c_x} {c_y} {b_w} {b_h}\\n\")\n",
    "\n",
    "        img.save(os.path.join(x_path, f\"{settype}_{i}.jpg\"))\n",
    "\n",
    "    \n",
    "make_data(train, train_x_dir, train_y_dir, \"train\")\n",
    "make_data(test, val_x_dir, val_y_dir, \"val\")"
   ]
  },
  {
   "cell_type": "markdown",
   "metadata": {},
   "source": [
    "## Create config file\n",
    "- For yolo to find the classes\n",
    "\n",
    "- For yolo find the train and val images"
   ]
  },
  {
   "cell_type": "code",
   "execution_count": null,
   "metadata": {},
   "outputs": [],
   "source": [
    "with open(\"keep_classes.pkl\", \"rb\") as file:\n",
    "        keep = pickle.load(file)\n",
    "\n",
    "with open(\"config.yaml\", \"w\") as f:\n",
    "    f.write(f\"train: {train_x_dir}\\n\")\n",
    "    f.write(f\"val: {val_x_dir}\\n\")\n",
    "    f.write(f\"nc: {len(keep)}\\n\")\n",
    "    f.write(f\"names: {keep}\")"
   ]
  },
  {
   "cell_type": "markdown",
   "metadata": {},
   "source": [
    "## Train yolo model"
   ]
  },
  {
   "cell_type": "code",
   "execution_count": null,
   "metadata": {},
   "outputs": [],
   "source": [
    "from ultralytics import YOLO\n",
    "\n",
    "model = YOLO(\"yolov8s.pt\") \n",
    "\n",
    "os.mkdir(\"runs\")\n",
    "\n",
    "model.train(data=\"config.yaml\", \n",
    "            epochs=10,\n",
    "            imgsz=640,\n",
    "            batch=32,\n",
    "            device=0,\n",
    "            project=f\"runs/\",\n",
    "            name=\"run_nr1\",\n",
    "            patience=100)"
   ]
  },
  {
   "cell_type": "markdown",
   "metadata": {},
   "source": [
    "## Inference"
   ]
  },
  {
   "cell_type": "code",
   "execution_count": null,
   "metadata": {},
   "outputs": [],
   "source": [
    "model_path = \"runs/run_nr1/weights/best.pt\"\n",
    "model = YOLO(model_path)\n",
    "\n",
    "img = Image.open(\"/home/eirikmv/cv_project2/test_imgs/math_3.png\")\n",
    "\n",
    "result = model.predict(source=img, conf=0.5)[0]\n",
    "\n",
    "\n",
    "img_array = result.orig_img\n",
    "\n",
    "imgs = []\n",
    "for res in result:\n",
    "\n",
    "    box = res.boxes.xyxy[0].cpu().numpy().astype(int)\n",
    "\n",
    "    img = img_array[box[1]:box[3], box[0]:box[2]]\n",
    "    imgs.append([img, box])\n",
    "    \n",
    "imgs = sorted(imgs, key=lambda x: x[1][0])\n",
    "\n",
    "for img, box in imgs:\n",
    "    im = Image.fromarray(img)\n",
    "    display(im)"
   ]
  }
 ],
 "metadata": {
  "kernelspec": {
   "display_name": "Python 3 (ipykernel)",
   "language": "python",
   "name": "python3"
  },
  "language_info": {
   "codemirror_mode": {
    "name": "ipython",
    "version": 3
   },
   "file_extension": ".py",
   "mimetype": "text/x-python",
   "name": "python",
   "nbconvert_exporter": "python",
   "pygments_lexer": "ipython3",
   "version": "3.10.14"
  }
 },
 "nbformat": 4,
 "nbformat_minor": 2
}
