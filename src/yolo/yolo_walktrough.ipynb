{
 "cells": [
  {
   "cell_type": "markdown",
   "metadata": {},
   "source": [
    "# YOLO-TsetlinMachine object-dectection object detection and symbol prediction walkthrough"
   ]
  },
  {
   "cell_type": "markdown",
   "metadata": {},
   "source": [
    "### Download datasets and requirements"
   ]
  },
  {
   "cell_type": "code",
   "execution_count": 12,
   "metadata": {},
   "outputs": [
    {
     "name": "stdout",
     "output_type": "stream",
     "text": [
      "Defaulting to user installation because normal site-packages is not writeable\n",
      "Looking in indexes: https://pypi.org/simple, https://pypi.ngc.nvidia.com\n",
      "Requirement already satisfied: pip in /home/steffenm/.local/lib/python3.10/site-packages (24.0)\n",
      "Defaulting to user installation because normal site-packages is not writeable\n",
      "Looking in indexes: https://pypi.org/simple, https://pypi.ngc.nvidia.com\n",
      "Requirement already satisfied: Pillow==10.3.0 in /home/steffenm/.local/lib/python3.10/site-packages (from -r requirements.txt (line 1)) (10.3.0)\n",
      "Requirement already satisfied: numpy==1.26.4 in /home/steffenm/.local/lib/python3.10/site-packages (from -r requirements.txt (line 2)) (1.26.4)\n",
      "Requirement already satisfied: tqdm==4.66.2 in /home/steffenm/.local/lib/python3.10/site-packages (from -r requirements.txt (line 3)) (4.66.2)\n",
      "Requirement already satisfied: scikit-learn==1.2.0 in /usr/local/lib/python3.10/dist-packages (from -r requirements.txt (line 4)) (1.2.0)\n",
      "Requirement already satisfied: scikit-image==0.23.2 in /home/steffenm/.local/lib/python3.10/site-packages (from -r requirements.txt (line 5)) (0.23.2)\n",
      "Requirement already satisfied: ultralytics==8.0.220 in /home/steffenm/.local/lib/python3.10/site-packages (from -r requirements.txt (line 6)) (8.0.220)\n",
      "Requirement already satisfied: customtkinter==5.2.2 in /home/steffenm/.local/lib/python3.10/site-packages (from -r requirements.txt (line 7)) (5.2.2)\n",
      "Requirement already satisfied: opencv-python==4.9.0.80 in /home/steffenm/.local/lib/python3.10/site-packages (from -r requirements.txt (line 8)) (4.9.0.80)\n",
      "Requirement already satisfied: pandas==2.2.2. in /home/steffenm/.local/lib/python3.10/site-packages (from -r requirements.txt (line 9)) (2.2.2)\n",
      "Requirement already satisfied: matplotlib==3.8.4 in /home/steffenm/.local/lib/python3.10/site-packages (from -r requirements.txt (line 10)) (3.8.4)\n",
      "Requirement already satisfied: scipy>=1.3.2 in /usr/local/lib/python3.10/dist-packages (from scikit-learn==1.2.0->-r requirements.txt (line 4)) (1.12.0)\n",
      "Requirement already satisfied: joblib>=1.1.1 in /usr/local/lib/python3.10/dist-packages (from scikit-learn==1.2.0->-r requirements.txt (line 4)) (1.3.2)\n",
      "Requirement already satisfied: threadpoolctl>=2.0.0 in /usr/local/lib/python3.10/dist-packages (from scikit-learn==1.2.0->-r requirements.txt (line 4)) (3.2.0)\n",
      "Requirement already satisfied: networkx>=2.8 in /home/steffenm/.local/lib/python3.10/site-packages (from scikit-image==0.23.2->-r requirements.txt (line 5)) (3.3)\n",
      "Requirement already satisfied: imageio>=2.33 in /home/steffenm/.local/lib/python3.10/site-packages (from scikit-image==0.23.2->-r requirements.txt (line 5)) (2.34.1)\n",
      "Requirement already satisfied: tifffile>=2022.8.12 in /home/steffenm/.local/lib/python3.10/site-packages (from scikit-image==0.23.2->-r requirements.txt (line 5)) (2024.4.24)\n",
      "Requirement already satisfied: packaging>=21 in /usr/local/lib/python3.10/dist-packages (from scikit-image==0.23.2->-r requirements.txt (line 5)) (23.2)\n",
      "Requirement already satisfied: lazy-loader>=0.4 in /home/steffenm/.local/lib/python3.10/site-packages (from scikit-image==0.23.2->-r requirements.txt (line 5)) (0.4)\n",
      "Requirement already satisfied: pyyaml>=5.3.1 in /usr/local/lib/python3.10/dist-packages (from ultralytics==8.0.220->-r requirements.txt (line 6)) (6.0.1)\n",
      "Requirement already satisfied: requests>=2.23.0 in /usr/local/lib/python3.10/dist-packages (from ultralytics==8.0.220->-r requirements.txt (line 6)) (2.31.0)\n",
      "Requirement already satisfied: torch>=1.8.0 in /usr/local/lib/python3.10/dist-packages (from ultralytics==8.0.220->-r requirements.txt (line 6)) (2.2.0a0+81ea7a4)\n",
      "Requirement already satisfied: torchvision>=0.9.0 in /usr/local/lib/python3.10/dist-packages (from ultralytics==8.0.220->-r requirements.txt (line 6)) (0.17.0a0)\n",
      "Requirement already satisfied: seaborn>=0.11.0 in /home/steffenm/.local/lib/python3.10/site-packages (from ultralytics==8.0.220->-r requirements.txt (line 6)) (0.13.2)\n",
      "Requirement already satisfied: psutil in /usr/local/lib/python3.10/dist-packages (from ultralytics==8.0.220->-r requirements.txt (line 6)) (5.9.4)\n",
      "Requirement already satisfied: py-cpuinfo in /home/steffenm/.local/lib/python3.10/site-packages (from ultralytics==8.0.220->-r requirements.txt (line 6)) (9.0.0)\n",
      "Requirement already satisfied: thop>=0.1.1 in /home/steffenm/.local/lib/python3.10/site-packages (from ultralytics==8.0.220->-r requirements.txt (line 6)) (0.1.1.post2209072238)\n",
      "Requirement already satisfied: darkdetect in /home/steffenm/.local/lib/python3.10/site-packages (from customtkinter==5.2.2->-r requirements.txt (line 7)) (0.8.0)\n",
      "Requirement already satisfied: python-dateutil>=2.8.2 in /usr/local/lib/python3.10/dist-packages (from pandas==2.2.2.->-r requirements.txt (line 9)) (2.8.2)\n",
      "Requirement already satisfied: pytz>=2020.1 in /usr/local/lib/python3.10/dist-packages (from pandas==2.2.2.->-r requirements.txt (line 9)) (2023.3.post1)\n",
      "Requirement already satisfied: tzdata>=2022.7 in /home/steffenm/.local/lib/python3.10/site-packages (from pandas==2.2.2.->-r requirements.txt (line 9)) (2024.1)\n",
      "Requirement already satisfied: contourpy>=1.0.1 in /usr/local/lib/python3.10/dist-packages (from matplotlib==3.8.4->-r requirements.txt (line 10)) (1.2.0)\n",
      "Requirement already satisfied: cycler>=0.10 in /usr/local/lib/python3.10/dist-packages (from matplotlib==3.8.4->-r requirements.txt (line 10)) (0.12.1)\n",
      "Requirement already satisfied: fonttools>=4.22.0 in /usr/local/lib/python3.10/dist-packages (from matplotlib==3.8.4->-r requirements.txt (line 10)) (4.47.2)\n",
      "Requirement already satisfied: kiwisolver>=1.3.1 in /usr/local/lib/python3.10/dist-packages (from matplotlib==3.8.4->-r requirements.txt (line 10)) (1.4.5)\n",
      "Requirement already satisfied: pyparsing>=2.3.1 in /usr/local/lib/python3.10/dist-packages (from matplotlib==3.8.4->-r requirements.txt (line 10)) (3.1.1)\n",
      "Requirement already satisfied: six>=1.5 in /usr/local/lib/python3.10/dist-packages (from python-dateutil>=2.8.2->pandas==2.2.2.->-r requirements.txt (line 9)) (1.16.0)\n",
      "Requirement already satisfied: charset-normalizer<4,>=2 in /usr/local/lib/python3.10/dist-packages (from requests>=2.23.0->ultralytics==8.0.220->-r requirements.txt (line 6)) (3.3.2)\n",
      "Requirement already satisfied: idna<4,>=2.5 in /usr/local/lib/python3.10/dist-packages (from requests>=2.23.0->ultralytics==8.0.220->-r requirements.txt (line 6)) (3.6)\n",
      "Requirement already satisfied: urllib3<3,>=1.21.1 in /usr/local/lib/python3.10/dist-packages (from requests>=2.23.0->ultralytics==8.0.220->-r requirements.txt (line 6)) (1.26.18)\n",
      "Requirement already satisfied: certifi>=2017.4.17 in /usr/local/lib/python3.10/dist-packages (from requests>=2.23.0->ultralytics==8.0.220->-r requirements.txt (line 6)) (2023.11.17)\n",
      "Requirement already satisfied: filelock in /usr/local/lib/python3.10/dist-packages (from torch>=1.8.0->ultralytics==8.0.220->-r requirements.txt (line 6)) (3.13.1)\n",
      "Requirement already satisfied: typing-extensions in /usr/local/lib/python3.10/dist-packages (from torch>=1.8.0->ultralytics==8.0.220->-r requirements.txt (line 6)) (4.9.0)\n",
      "Requirement already satisfied: sympy in /usr/local/lib/python3.10/dist-packages (from torch>=1.8.0->ultralytics==8.0.220->-r requirements.txt (line 6)) (1.12)\n",
      "Requirement already satisfied: jinja2 in /usr/local/lib/python3.10/dist-packages (from torch>=1.8.0->ultralytics==8.0.220->-r requirements.txt (line 6)) (3.1.3)\n",
      "Requirement already satisfied: fsspec in /usr/local/lib/python3.10/dist-packages (from torch>=1.8.0->ultralytics==8.0.220->-r requirements.txt (line 6)) (2023.12.2)\n",
      "Requirement already satisfied: MarkupSafe>=2.0 in /usr/local/lib/python3.10/dist-packages (from jinja2->torch>=1.8.0->ultralytics==8.0.220->-r requirements.txt (line 6)) (2.1.4)\n",
      "Requirement already satisfied: mpmath>=0.19 in /usr/local/lib/python3.10/dist-packages (from sympy->torch>=1.8.0->ultralytics==8.0.220->-r requirements.txt (line 6)) (1.3.0)\n"
     ]
    },
    {
     "name": "stderr",
     "output_type": "stream",
     "text": [
      "./download_data.sh: line 14: gdown: command not found\n"
     ]
    },
    {
     "data": {
      "text/plain": [
       "32512"
      ]
     },
     "execution_count": 12,
     "metadata": {},
     "output_type": "execute_result"
    }
   ],
   "source": [
    "import os\n",
    "\n",
    "os.system(\"cd ~/tm-yolo-mathreader chmod +x download_data.sh && ./download_data.sh\")"
   ]
  },
  {
   "cell_type": "markdown",
   "metadata": {},
   "source": [
    "## Load data"
   ]
  },
  {
   "cell_type": "code",
   "execution_count": 11,
   "metadata": {},
   "outputs": [
    {
     "ename": "FileNotFoundError",
     "evalue": "[Errno 2] No such file or directory: '/home/steffenm/data/math_expression_data/yolo_data/JSON/kaggle_data_1.json'",
     "output_type": "error",
     "traceback": [
      "\u001b[0;31m---------------------------------------------------------------------------\u001b[0m",
      "\u001b[0;31mFileNotFoundError\u001b[0m                         Traceback (most recent call last)",
      "Cell \u001b[0;32mIn[11], line 8\u001b[0m\n\u001b[1;32m      5\u001b[0m labels \u001b[38;5;241m=\u001b[39m os\u001b[38;5;241m.\u001b[39mpath\u001b[38;5;241m.\u001b[39mjoin(root, \u001b[38;5;124m\"\u001b[39m\u001b[38;5;124mJSON\u001b[39m\u001b[38;5;124m\"\u001b[39m, \u001b[38;5;124m\"\u001b[39m\u001b[38;5;124mkaggle_data_1.json\u001b[39m\u001b[38;5;124m\"\u001b[39m)\n\u001b[1;32m      6\u001b[0m images \u001b[38;5;241m=\u001b[39m os\u001b[38;5;241m.\u001b[39mpath\u001b[38;5;241m.\u001b[39mjoin(root, \u001b[38;5;124m\"\u001b[39m\u001b[38;5;124mbackground_images\u001b[39m\u001b[38;5;124m\"\u001b[39m)\n\u001b[0;32m----> 8\u001b[0m \u001b[38;5;28;01mwith\u001b[39;00m \u001b[38;5;28;43mopen\u001b[39;49m\u001b[43m(\u001b[49m\u001b[43mlabels\u001b[49m\u001b[43m,\u001b[49m\u001b[43m \u001b[49m\u001b[38;5;124;43m\"\u001b[39;49m\u001b[38;5;124;43mrb\u001b[39;49m\u001b[38;5;124;43m\"\u001b[39;49m\u001b[43m)\u001b[49m \u001b[38;5;28;01mas\u001b[39;00m file:\n\u001b[1;32m      9\u001b[0m     labels \u001b[38;5;241m=\u001b[39m json\u001b[38;5;241m.\u001b[39mload(file)\n",
      "File \u001b[0;32m/usr/local/lib/python3.10/dist-packages/IPython/core/interactiveshell.py:310\u001b[0m, in \u001b[0;36m_modified_open\u001b[0;34m(file, *args, **kwargs)\u001b[0m\n\u001b[1;32m    303\u001b[0m \u001b[38;5;28;01mif\u001b[39;00m file \u001b[38;5;129;01min\u001b[39;00m {\u001b[38;5;241m0\u001b[39m, \u001b[38;5;241m1\u001b[39m, \u001b[38;5;241m2\u001b[39m}:\n\u001b[1;32m    304\u001b[0m     \u001b[38;5;28;01mraise\u001b[39;00m \u001b[38;5;167;01mValueError\u001b[39;00m(\n\u001b[1;32m    305\u001b[0m         \u001b[38;5;124mf\u001b[39m\u001b[38;5;124m\"\u001b[39m\u001b[38;5;124mIPython won\u001b[39m\u001b[38;5;124m'\u001b[39m\u001b[38;5;124mt let you open fd=\u001b[39m\u001b[38;5;132;01m{\u001b[39;00mfile\u001b[38;5;132;01m}\u001b[39;00m\u001b[38;5;124m by default \u001b[39m\u001b[38;5;124m\"\u001b[39m\n\u001b[1;32m    306\u001b[0m         \u001b[38;5;124m\"\u001b[39m\u001b[38;5;124mas it is likely to crash IPython. If you know what you are doing, \u001b[39m\u001b[38;5;124m\"\u001b[39m\n\u001b[1;32m    307\u001b[0m         \u001b[38;5;124m\"\u001b[39m\u001b[38;5;124myou can use builtins\u001b[39m\u001b[38;5;124m'\u001b[39m\u001b[38;5;124m open.\u001b[39m\u001b[38;5;124m\"\u001b[39m\n\u001b[1;32m    308\u001b[0m     )\n\u001b[0;32m--> 310\u001b[0m \u001b[38;5;28;01mreturn\u001b[39;00m \u001b[43mio_open\u001b[49m\u001b[43m(\u001b[49m\u001b[43mfile\u001b[49m\u001b[43m,\u001b[49m\u001b[43m \u001b[49m\u001b[38;5;241;43m*\u001b[39;49m\u001b[43margs\u001b[49m\u001b[43m,\u001b[49m\u001b[43m \u001b[49m\u001b[38;5;241;43m*\u001b[39;49m\u001b[38;5;241;43m*\u001b[39;49m\u001b[43mkwargs\u001b[49m\u001b[43m)\u001b[49m\n",
      "\u001b[0;31mFileNotFoundError\u001b[0m: [Errno 2] No such file or directory: '/home/steffenm/data/math_expression_data/yolo_data/JSON/kaggle_data_1.json'"
     ]
    }
   ],
   "source": [
    "import json\n",
    "\n",
    "root = f\"/home/{os.environ['USER']}/data/math_expression_data/yolo_data\"\n",
    "\n",
    "labels = os.path.join(root, \"JSON\", \"kaggle_data_1.json\")\n",
    "images = os.path.join(root, \"background_images\")\n",
    "\n",
    "with open(labels, \"rb\") as file:\n",
    "    labels = json.load(file)"
   ]
  },
  {
   "cell_type": "markdown",
   "metadata": {},
   "source": [
    "## Show image with bounding boxes"
   ]
  },
  {
   "cell_type": "code",
   "execution_count": null,
   "metadata": {},
   "outputs": [],
   "source": [
    "from PIL import Image, ImageDraw\n",
    "import numpy as np\n",
    "\n",
    "rndimg = np.random.randint(0, 10000)\n",
    "\n",
    "_img = labels[rndimg][\"filename\"]\n",
    "\n",
    "for file in os.listdir(images):\n",
    "\n",
    "    if file == _img:\n",
    "        img = Image.open(os.path.join(images, file))\n",
    "        draw = ImageDraw.Draw(img)\n",
    "\n",
    "        xmin = labels[rndimg][\"image_data\"][\"xmins_raw\"]\n",
    "        xmax = labels[rndimg][\"image_data\"][\"xmaxs_raw\"]\n",
    "        ymin = labels[rndimg][\"image_data\"][\"ymins_raw\"]\n",
    "        ymax = labels[rndimg][\"image_data\"][\"ymaxs_raw\"]\n",
    "\n",
    "        for x_min, x_max, y_min, y_max in zip(xmin, xmax, ymin, ymax):\n",
    "            draw.rectangle([x_min, y_min, x_max, y_max], outline=\"red\")\n",
    "\n",
    "        display(img)"
   ]
  },
  {
   "cell_type": "markdown",
   "metadata": {},
   "source": [
    "## Prepare dataset environment"
   ]
  },
  {
   "cell_type": "code",
   "execution_count": null,
   "metadata": {},
   "outputs": [],
   "source": [
    "dataset_root = f\"/home/{os.environ['USER']}/data/math_expression_data/yolo_dataset_formated\"\n",
    "if not os.path.exists(dataset_root):\n",
    "    os.mkdir(dataset_root)\n",
    "\n",
    "train_dir = os.path.join(dataset_root, \"train\")\n",
    "if not os.path.exists(train_dir):\n",
    "    os.mkdir(train_dir)\n",
    "\n",
    "val_dir = os.path.join(dataset_root, \"valid\")\n",
    "if not os.path.exists(val_dir):\n",
    "    os.mkdir(val_dir)\n",
    "\n",
    "train_x_dir = os.path.join(train_dir, \"images\")\n",
    "if not os.path.exists(train_x_dir):\n",
    "    os.mkdir(train_x_dir)\n",
    "\n",
    "val_x_dir = os.path.join(val_dir, \"images\")\n",
    "if not os.path.exists(val_x_dir):\n",
    "    os.mkdir(val_x_dir)\n",
    "\n",
    "train_y_dir = os.path.join(train_dir, \"labels\")\n",
    "if not os.path.exists(train_y_dir):\n",
    "    os.mkdir(train_y_dir)\n",
    "\n",
    "val_y_dir = os.path.join(val_dir, \"labels\")\n",
    "if not os.path.exists(val_y_dir):\n",
    "    os.mkdir(val_y_dir)"
   ]
  },
  {
   "cell_type": "markdown",
   "metadata": {},
   "source": [
    "## Functions:\n",
    "- Convert xmin, xmax, ymin, ymax to center_x, center_y, bbox_width, bbox_height. This is neccessary for yolo training\n",
    "\n",
    "- Get image classes"
   ]
  },
  {
   "cell_type": "code",
   "execution_count": null,
   "metadata": {},
   "outputs": [],
   "source": [
    "import pickle\n",
    "\n",
    "def convert_to_yolo_bbox(image_width, image_height, xmin, xmax, ymin, ymax):\n",
    "    \n",
    "    bbox_width = xmax - xmin\n",
    "    bbox_height = ymax - ymin\n",
    "    center_x = xmin + bbox_width / 2\n",
    "    center_y = ymin + bbox_height / 2\n",
    "\n",
    "    center_x /= image_width\n",
    "    center_y /= image_height\n",
    "    bbox_width /= image_width\n",
    "    bbox_height /= image_height\n",
    "\n",
    "    return center_x, center_y, bbox_width, bbox_height\n",
    "\n",
    "\n",
    "def get_img_info(all_img_data, filename):\n",
    "\n",
    "    with open(\"keep_classes.pkl\", \"rb\") as file:\n",
    "        keep = pickle.load(file)\n",
    "\n",
    "    for j, imginfo in enumerate(all_img_data):\n",
    "\n",
    "        if imginfo[\"filename\"] == filename:\n",
    "            \n",
    "            img = imginfo[\"image_data\"]\n",
    "            width = img[\"width\"]\n",
    "            height = img[\"height\"]\n",
    "\n",
    "            keep_classes = [i for i,lab in enumerate(imginfo[\"image_data\"][\"visible_latex_chars\"]) if lab in keep]\n",
    "            \n",
    "            img_classes = [imginfo[\"image_data\"][\"visible_latex_chars\"][i] for i in keep_classes]\n",
    "            \n",
    "            xmin = [imginfo[\"image_data\"][\"xmins_raw\"][i] for i in keep_classes]\n",
    "            xmax = [imginfo[\"image_data\"][\"xmaxs_raw\"][i] for i in keep_classes]\n",
    "            ymin = [imginfo[\"image_data\"][\"ymins_raw\"][i] for i in keep_classes]\n",
    "            ymax = [imginfo[\"image_data\"][\"ymaxs_raw\"][i] for i in keep_classes]\n",
    "            \n",
    "            return [img_classes, width, height, xmin, xmax, ymin, ymax]\n",
    "    \n",
    "    assert False, f\"Image {filename} not found\"\n",
    "        "
   ]
  },
  {
   "cell_type": "markdown",
   "metadata": {},
   "source": [
    "## Train test split"
   ]
  },
  {
   "cell_type": "code",
   "execution_count": null,
   "metadata": {},
   "outputs": [],
   "source": [
    "from sklearn.model_selection import train_test_split\n",
    "\n",
    "train, test = train_test_split(os.listdir(images), test_size=0.2, random_state=42)"
   ]
  },
  {
   "cell_type": "markdown",
   "metadata": {},
   "source": [
    "## Main function."
   ]
  },
  {
   "cell_type": "code",
   "execution_count": null,
   "metadata": {},
   "outputs": [],
   "source": [
    "from tqdm import tqdm\n",
    "\n",
    "def make_data(files : list, x_path : str, y_path : str, settype : str):\n",
    "\n",
    "    for i, filename in enumerate(tqdm(files)):\n",
    "\n",
    "        center_x, center_y, bbox_width, bbox_height = [], [], [], []\n",
    "\n",
    "        img = Image.open(os.path.join(images, filename))\n",
    "        img_data = get_img_info(labels, filename)\n",
    "        \n",
    "        if img_data[0] == []:\n",
    "            continue\n",
    "        \n",
    "        for xmin, xmax, ymin, ymax in zip(img_data[3], img_data[4], img_data[5], img_data[6]):\n",
    "            \n",
    "            c_x, c_y, b_w, b_h = convert_to_yolo_bbox(img_data[1], img_data[2], xmin, xmax, ymin, ymax)\n",
    "            \n",
    "            center_x.append(c_x)\n",
    "            center_y.append(c_y)\n",
    "            bbox_width.append(b_w)\n",
    "            bbox_height.append(b_h)\n",
    "\n",
    "        with open(\"keep.pkl\", \"rb\") as f:\n",
    "            keep = pickle.load(f)\n",
    "\n",
    "        with open(os.path.join(y_path, f\"{settype}_{i}.txt\"), \"w\") as f:\n",
    "            for c, (c_x, c_y, b_w, b_h) in enumerate(zip(center_x, center_y, bbox_width, bbox_height)):                \n",
    "                \n",
    "                is_class = keep.index(img_data[0][c])\n",
    "                f.write(f\"{is_class} {c_x} {c_y} {b_w} {b_h}\\n\")\n",
    "\n",
    "        img.save(os.path.join(x_path, f\"{settype}_{i}.jpg\"))\n",
    "\n",
    "    \n",
    "make_data(train, train_x_dir, train_y_dir, \"train\")\n",
    "make_data(test, val_x_dir, val_y_dir, \"val\")"
   ]
  },
  {
   "cell_type": "markdown",
   "metadata": {},
   "source": [
    "## Create config file\n",
    "- For yolo to find the classes\n",
    "\n",
    "- For yolo find the train and val images"
   ]
  },
  {
   "cell_type": "code",
   "execution_count": null,
   "metadata": {},
   "outputs": [],
   "source": [
    "with open(\"keep_classes.pkl\", \"rb\") as file:\n",
    "        keep = pickle.load(file)\n",
    "\n",
    "with open(\"config.yaml\", \"w\") as f:\n",
    "    f.write(f\"train: {train_x_dir}\\n\")\n",
    "    f.write(f\"val: {val_x_dir}\\n\")\n",
    "    f.write(f\"nc: {len(keep)}\\n\")\n",
    "    f.write(f\"names: {keep}\")"
   ]
  },
  {
   "cell_type": "markdown",
   "metadata": {},
   "source": [
    "## Train yolo model"
   ]
  },
  {
   "cell_type": "code",
   "execution_count": null,
   "metadata": {},
   "outputs": [],
   "source": [
    "from ultralytics import YOLO\n",
    "\n",
    "model = YOLO(\"yolov8s.pt\") \n",
    "\n",
    "os.mkdir(\"runs\")\n",
    "\n",
    "model.train(data=\"config.yaml\", \n",
    "            epochs=10,\n",
    "            imgsz=640,\n",
    "            batch=32,\n",
    "            device=0,\n",
    "            project=f\"runs/\",\n",
    "            name=\"run_nr1\",\n",
    "            patience=100)"
   ]
  },
  {
   "cell_type": "markdown",
   "metadata": {},
   "source": [
    "## Inference"
   ]
  },
  {
   "cell_type": "code",
   "execution_count": null,
   "metadata": {},
   "outputs": [],
   "source": [
    "model_path = \"runs/run_nr1/weights/best.pt\"\n",
    "model = YOLO(model_path)\n",
    "\n",
    "img = Image.open(\"/home/eirikmv/cv_project2/test_imgs/math_3.png\")\n",
    "\n",
    "result = model.predict(source=img, conf=0.5)[0]\n",
    "\n",
    "\n",
    "img_array = result.orig_img\n",
    "\n",
    "imgs = []\n",
    "for res in result:\n",
    "\n",
    "    box = res.boxes.xyxy[0].cpu().numpy().astype(int)\n",
    "\n",
    "    img = img_array[box[1]:box[3], box[0]:box[2]]\n",
    "    imgs.append([img, box])\n",
    "    \n",
    "imgs = sorted(imgs, key=lambda x: x[1][0])\n",
    "\n",
    "for img, box in imgs:\n",
    "    im = Image.fromarray(img)\n",
    "    display(im)"
   ]
  }
 ],
 "metadata": {
  "kernelspec": {
   "display_name": "Python 3 (ipykernel)",
   "language": "python",
   "name": "python3"
  },
  "language_info": {
   "codemirror_mode": {
    "name": "ipython",
    "version": 3
   },
   "file_extension": ".py",
   "mimetype": "text/x-python",
   "name": "python",
   "nbconvert_exporter": "python",
   "pygments_lexer": "ipython3",
   "version": "3.10.12"
  }
 },
 "nbformat": 4,
 "nbformat_minor": 2
}
