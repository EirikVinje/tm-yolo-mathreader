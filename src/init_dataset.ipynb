{
 "cells": [
  {
   "cell_type": "code",
   "execution_count": 15,
   "metadata": {},
   "outputs": [
    {
     "name": "stdout",
     "output_type": "stream",
     "text": [
      "{'times': 0, 'f': 1, 'e': 2, 'tan': 3, '(': 4, '6': 5, 'y': 6, '-': 7, '2': 8, 'div': 9, '7': 10, '8': 11, ')': 12, 'sum': 13, '4': 14, ',': 15, 'sqrt': 16, '=': 17, '0': 18, 'sin': 19, '3': 20, '+': 21, '1': 22, 'cos': 23, '9': 24, 'pi': 25, '5': 26}\n"
     ]
    },
    {
     "name": "stderr",
     "output_type": "stream",
     "text": [
      "100%|██████████| 27/27 [00:09<00:00,  2.84it/s]\n"
     ]
    },
    {
     "name": "stdout",
     "output_type": "stream",
     "text": [
      "DATASET LABELS: {0, 1, 2, 3, 4, 5, 6, 7, 8, 9, 10, 11, 12, 13, 14, 15, 16, 17, 18, 19, 20, 21, 22, 23, 24, 25, 26}\n"
     ]
    }
   ],
   "source": [
    "# this was all done in vscode connected to fe server\n",
    "import os\n",
    "import cv2\n",
    "import pickle\n",
    "import random\n",
    "import numpy as np\n",
    "import polars as pl\n",
    "import pandas as pd\n",
    "import matplotlib.pyplot as plt\n",
    "from skimage.morphology import skeletonize, thin, medial_axis\n",
    "\n",
    "from collections import Counter\n",
    "from tqdm import tqdm\n",
    "\n",
    "cwd = os.getcwd()\n",
    "data_dir = \"/home/steffenm/data/cv/dataset\"\n",
    "dataset_dir = os.path.join(data_dir, \"dataset\")\n",
    "\n",
    "class_names = os.listdir(dataset_dir)\n",
    "\n",
    "images = []\n",
    "labels = []\n",
    "\n",
    "# map class names to integers\n",
    "class_names_map = {class_name: i for i, class_name in enumerate(class_names)}\n",
    "print(class_names_map)\n",
    "pickle.dump(class_names_map, open(os.path.join(data_dir, \"class_names_map.pkl\"), \"wb\"))\n",
    "\n",
    "for class_name, class_id in tqdm(class_names_map.items()):\n",
    "    class_dir = os.path.join(dataset_dir, class_name)\n",
    "\n",
    "    for filename in os.listdir(class_dir):\n",
    "        if filename.endswith(\".jpg\"):\n",
    "            image_path = os.path.join(class_dir, filename)\n",
    "            \n",
    "            image = cv2.imread(image_path, cv2.IMREAD_GRAYSCALE)\n",
    "            image = cv2.threshold(image, 0, 255, cv2.THRESH_BINARY_INV + cv2.THRESH_OTSU)[1]\n",
    "            \n",
    "            images.append(image)\n",
    "            labels.append(class_id)\n",
    "\n",
    "# Save the dataset to a pickle file\n",
    "dataset = {\n",
    "    'images': images,\n",
    "    'labels': labels\n",
    "}\n",
    "print(\"DATASET LABELS:\",set(labels))\n",
    "df = pd.DataFrame(dataset)\n",
    "\n",
    "pickle.dump(dataset, open(os.path.join(data_dir, \"dataset.pkl\"), \"wb\"))\n"
   ]
  },
  {
   "cell_type": "code",
   "execution_count": 16,
   "metadata": {},
   "outputs": [
    {
     "name": "stdout",
     "output_type": "stream",
     "text": [
      "{0, 1, 2, 3, 4, 5, 6, 7, 8, 9, 10, 11, 12, 13, 14, 15, 16, 17, 18, 19, 20, 21, 22, 23, 24, 25, 26}\n"
     ]
    }
   ],
   "source": [
    "data_dir = \"/home/steffenm/data/cv/dataset\"\n",
    "\n",
    "dataset = pickle.load(open(os.path.join(data_dir, \"dataset.pkl\"), \"rb\"))\n",
    "\n",
    "images = dataset['images']\n",
    "labels = dataset['labels']\n",
    "print(set(labels))"
   ]
  },
  {
   "cell_type": "code",
   "execution_count": 24,
   "metadata": {},
   "outputs": [
    {
     "name": "stdout",
     "output_type": "stream",
     "text": [
      "17\n"
     ]
    },
    {
     "data": {
      "image/png": "[encoded data removed]",
      "text/plain": [
       "<Figure size 640x480 with 1 Axes>"
      ]
     },
     "metadata": {},
     "output_type": "display_data"
    },
    {
     "name": "stdout",
     "output_type": "stream",
     "text": [
      "22\n"
     ]
    },
    {
     "data": {
      "image/png": "[encoded data removed]",
      "text/plain": [
       "<Figure size 640x480 with 1 Axes>"
      ]
     },
     "metadata": {},
     "output_type": "display_data"
    },
    {
     "name": "stdout",
     "output_type": "stream",
     "text": [
      "17\n"
     ]
    },
    {
     "data": {
      "image/png": "[encoded data removed]",
      "text/plain": [
       "<Figure size 640x480 with 1 Axes>"
      ]
     },
     "metadata": {},
     "output_type": "display_data"
    }
   ],
   "source": [
    "\n",
    "# print random images\n",
    "for i in random.sample(range(len(images)), 3):\n",
    "    print(labels[i])\n",
    "    plt.imshow(images[i],cmap='gray')\n",
    "    plt.show()"
   ]
  },
  {
   "cell_type": "code",
   "execution_count": 18,
   "metadata": {},
   "outputs": [
    {
     "name": "stdout",
     "output_type": "stream",
     "text": [
      "{0, 1, 2, 3, 4, 5, 6, 7, 8, 9, 10, 11, 12, 13, 14, 15, 16, 17, 18, 19, 20, 21, 22, 23, 24, 25, 26}\n",
      "Counter({7: 33997, 22: 26520, 8: 26141, 21: 25112, 12: 14355, 4: 14294, 17: 13104, 20: 10909, 6: 9340, 16: 8908, 14: 7396, 18: 6914, 19: 4293, 24: 3737, 1: 3712, 26: 3545, 0: 3251, 5: 3118, 11: 3068, 2: 3003, 23: 2986, 10: 2909, 13: 2689, 3: 2450, 25: 2332, 15: 1906, 9: 868})\n"
     ]
    },
    {
     "name": "stderr",
     "output_type": "stream",
     "text": [
      "100%|██████████| 27/27 [00:00<00:00, 77.49it/s]\n"
     ]
    },
    {
     "name": "stdout",
     "output_type": "stream",
     "text": [
      "Counter({4: 5000, 6: 5000, 7: 5000, 8: 5000, 12: 5000, 14: 5000, 16: 5000, 17: 5000, 18: 5000, 20: 5000, 21: 5000, 22: 5000, 19: 4293, 24: 3737, 1: 3712, 26: 3545, 0: 3251, 5: 3118, 11: 3068, 2: 3003, 23: 2986, 10: 2909, 13: 2689, 3: 2450, 25: 2332, 15: 1906, 9: 868})\n"
     ]
    }
   ],
   "source": [
    "# balance dataset to 5000 images per class\n",
    "\n",
    "data_dir = \"/home/steffenm/data/cv/dataset\"\n",
    "\n",
    "dataset = pickle.load(open(os.path.join(data_dir, \"dataset.pkl\"), \"rb\"))\n",
    "\n",
    "images = dataset['images']\n",
    "labels = dataset['labels']\n",
    "print(set(labels))\n",
    "\n",
    "class_counts = Counter(labels)\n",
    "print(class_counts)\n",
    "\n",
    "target_count = 5000\n",
    "\n",
    "balanced_images = []\n",
    "balanced_labels = []\n",
    "\n",
    "for class_name in tqdm(class_counts.keys()):\n",
    "    # Get the number of images with the current class\n",
    "    class_indices = [i for i, label in enumerate(labels) if label == class_name]\n",
    "    class_count = len(class_indices)\n",
    "\n",
    "    if class_count > target_count:\n",
    "        images_to_keep_indices = np.random.choice(class_indices, target_count)\n",
    "\n",
    "        balanced_images.extend([images[i] for i in images_to_keep_indices])\n",
    "        balanced_labels.extend([class_name] * target_count)\n",
    "    else:  \n",
    "        balanced_images.extend([images[i] for i in class_indices])\n",
    "        balanced_labels.extend([class_name] * class_count)\n",
    "\n",
    "# Save the balanced dataset\n",
    "balanced_dataset = {\n",
    "    'images': balanced_images,\n",
    "    'labels': balanced_labels\n",
    "}\n",
    "pickle.dump(balanced_dataset, open(os.path.join(data_dir, \"balanced_dataset.pkl\"), \"wb\"))\n",
    "\n",
    "# Count the number of images per class\n",
    "balanced_class_counts = Counter(balanced_labels)\n",
    "print(balanced_class_counts)\n"
   ]
  },
  {
   "cell_type": "code",
   "execution_count": 19,
   "metadata": {},
   "outputs": [],
   "source": [
    "# Split the dataset into training and validation sets\n",
    "from sklearn.model_selection import train_test_split\n",
    "\n",
    "data_dir = \"/home/steffenm/data/cv/dataset\"\n",
    "\n",
    "balanced_dataset = pickle.load(open(os.path.join(data_dir, \"balanced_dataset.pkl\"), \"rb\"))\n",
    "\n",
    "images = balanced_dataset['images']\n",
    "labels = balanced_dataset['labels']\n",
    "\n",
    "train_images, val_images, train_labels, val_labels = train_test_split(images, labels, test_size=0.2, random_state=42)\n",
    "\n",
    "# Save the training and validation sets\n",
    "train_dataset = {\n",
    "    'images': train_images,\n",
    "    'labels': train_labels\n",
    "}\n",
    "\n",
    "val_dataset = {\n",
    "    'images': val_images,\n",
    "    'labels': val_labels\n",
    "}\n",
    "\n",
    "pickle.dump(train_dataset, open(os.path.join(data_dir, \"train_dataset.pkl\"), \"wb\"))\n",
    "pickle.dump(val_dataset, open(os.path.join(data_dir, \"val_dataset.pkl\"), \"wb\"))\n"
   ]
  }
 ],
 "metadata": {
  "kernelspec": {
   "display_name": "Python 3 (ipykernel)",
   "language": "python",
   "name": "python3"
  },
  "language_info": {
   "codemirror_mode": {
    "name": "ipython",
    "version": 3
   },
   "file_extension": ".py",
   "mimetype": "text/x-python",
   "name": "python",
   "nbconvert_exporter": "python",
   "pygments_lexer": "ipython3",
   "version": "3.10.12"
  }
 },
 "nbformat": 4,
 "nbformat_minor": 2
}
